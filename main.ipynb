{
 "cells": [
  {
   "metadata": {
    "ExecuteTime": {
     "end_time": "2025-10-11T07:18:48.040779Z",
     "start_time": "2025-10-11T07:18:48.038332Z"
    }
   },
   "cell_type": "code",
   "source": [
    "from config.loadConfig import load_project_config\n",
    "import os\n",
    "\n",
    "from DB.Chroma import run_db\n",
    "from sentence_transformers import SentenceTransformer\n",
    "from RAG.RAG_Retrieve import custom_embed_function\n"
   ],
   "id": "9f8bb606a51b034d",
   "outputs": [],
   "execution_count": 16
  },
  {
   "metadata": {
    "ExecuteTime": {
     "end_time": "2025-10-11T07:17:56.479562Z",
     "start_time": "2025-10-11T07:17:56.475740Z"
    }
   },
   "cell_type": "code",
   "source": "config_yaml = load_project_config(os.path.join(os.getcwd(), \"config/config.yaml\"))",
   "id": "1a5c5cf3faf27040",
   "outputs": [],
   "execution_count": 14
  },
  {
   "metadata": {
    "ExecuteTime": {
     "end_time": "2025-10-11T07:14:10.012322Z",
     "start_time": "2025-10-11T07:14:09.871097Z"
    }
   },
   "cell_type": "code",
   "source": "chroma_client = run_db()",
   "id": "92f4780c2501fca0",
   "outputs": [],
   "execution_count": 7
  },
  {
   "metadata": {
    "ExecuteTime": {
     "end_time": "2025-10-11T07:18:05.085416Z",
     "start_time": "2025-10-11T07:18:01.830319Z"
    }
   },
   "cell_type": "code",
   "source": "embedding_model = SentenceTransformer(config_yaml['embedding_model'])",
   "id": "343652a0f004438",
   "outputs": [],
   "execution_count": 15
  },
  {
   "metadata": {
    "ExecuteTime": {
     "end_time": "2025-10-11T07:18:51.149863Z",
     "start_time": "2025-10-11T07:18:50.916632Z"
    }
   },
   "cell_type": "code",
   "source": [
    "query_text = \"Where is alabama?\"\n",
    "print(f\"\\n--- DEMO: Querying Small Chunks for: '{query_text}' ---\")\n",
    "\n",
    "# Encode the query text using the same model\n",
    "query_embedding = custom_embed_function(embedding_model=embedding_model, texts=[query_text])"
   ],
   "id": "87835e98f206d63c",
   "outputs": [
    {
     "name": "stdout",
     "output_type": "stream",
     "text": [
      "\n",
      "--- DEMO: Querying Small Chunks for: 'Where is alabama?' ---\n"
     ]
    }
   ],
   "execution_count": 17
  },
  {
   "metadata": {
    "ExecuteTime": {
     "end_time": "2025-10-11T07:23:56.102094Z",
     "start_time": "2025-10-11T07:23:56.091025Z"
    }
   },
   "cell_type": "code",
   "source": [
    "from DB.Chroma import get_collection\n",
    "\n",
    "small_collection = get_collection(\n",
    "    client=chroma_client,\n",
    "    collection_name=config_yaml['db']['collections']['collection_small']['name']\n",
    ")\n",
    "\n",
    "large_collection = get_collection(\n",
    "    client=chroma_client,\n",
    "    collection_name=config_yaml['db']['collections']['collection_large']['name']\n",
    ")\n",
    "\n",
    "# Search the small collection\n",
    "retrieved_small_chunks = small_collection.query(\n",
    "    query_embeddings=query_embedding,\n",
    "    n_results=1,\n",
    "    include=['metadatas','documents']\n",
    ")"
   ],
   "id": "ba7325c3ab81a633",
   "outputs": [],
   "execution_count": 25
  },
  {
   "metadata": {
    "ExecuteTime": {
     "end_time": "2025-10-11T07:25:16.293355Z",
     "start_time": "2025-10-11T07:25:16.290385Z"
    }
   },
   "cell_type": "code",
   "source": "print(f\"Retrieved small chunk:\\n{retrieved_small_chunks['documents'][0][0]}\")",
   "id": "484171256eb710b9",
   "outputs": [
    {
     "name": "stdout",
     "output_type": "stream",
     "text": [
      "Retrieved small chunk:\n",
      "Alabama () is a state in the Southeastern region of the United States, bordered by Tennessee to the north; Georgia to the east; Florida and the Gulf of Mexico to the south; and Mississippi to the west. Alabama is the 30th largest by area and the 24th-most populous of the U.S. states.\n"
     ]
    }
   ],
   "execution_count": 31
  },
  {
   "metadata": {
    "ExecuteTime": {
     "end_time": "2025-10-11T07:29:16.175447Z",
     "start_time": "2025-10-11T07:29:16.172348Z"
    }
   },
   "cell_type": "code",
   "source": [
    "parent_id = retrieved_small_chunks['metadatas'][0][0]['parent_id']\n",
    "print(f\"Retrieved Small Chunk Parent ID: {parent_id}\")\n",
    "\n",
    "full_context_result = large_collection.get(\n",
    "        ids=[parent_id],\n",
    "        include=['documents','metadatas']\n",
    ")\n",
    "print(full_context_result['documents'][0])\n",
    "print(full_context_result['metadatas'])"
   ],
   "id": "8f0b0ec2a117ecdc",
   "outputs": [
    {
     "name": "stdout",
     "output_type": "stream",
     "text": [
      "Retrieved Small Chunk Parent ID: 53cab0f6-6494-4f48-9314-dcff65e6df9d\n",
      "Alabama () is a state in the Southeastern region of the United States, bordered by Tennessee to the north; Georgia to the east; Florida and the Gulf of Mexico to the south; and Mississippi to the west. Alabama is the 30th largest by area and the 24th-most populous of the U.S. states.\n",
      "\n",
      "Alabama is nicknamed the Yellowhammer State, after the state bird. Alabama is also known as the \"Heart of Dixie\" and the \"Cotton State\". The state tree is the longleaf pine, and the state flower is the camellia. Alabama's capital is Montgomery, and its largest city by population and area is Huntsville. Its oldest city is Mobile, founded by French colonists (Alabama Creoles) in 1702 as the capital of French Louisiana. Greater Birmingham is Alabama's largest metropolitan area and its economic center.\n",
      "[{'doc_index': 3}]\n"
     ]
    }
   ],
   "execution_count": 33
  },
  {
   "metadata": {},
   "cell_type": "code",
   "outputs": [],
   "execution_count": null,
   "source": "",
   "id": "d5780cc4cb965145"
  }
 ],
 "metadata": {
  "kernelspec": {
   "name": "python3",
   "language": "python",
   "display_name": "Python 3 (ipykernel)"
  }
 },
 "nbformat": 4,
 "nbformat_minor": 5
}
