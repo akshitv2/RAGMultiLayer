{
 "cells": [
  {
   "cell_type": "code",
   "id": "initial_id",
   "metadata": {
    "collapsed": true,
    "ExecuteTime": {
     "end_time": "2025-10-12T05:21:24.421547Z",
     "start_time": "2025-10-12T05:21:21.321157Z"
    }
   },
   "source": [
    "import os\n",
    "from config.loadConfig import load_project_config\n",
    "from DB.qDrant import check_qdrant_status, QdrantConfig\n",
    "from qdrant_client import QdrantClient\n",
    "from sentence_transformers import SentenceTransformer\n",
    "from RAG.RAG_Retrieve import custom_embed_function\n",
    "# Encode the query text using the same model\n",
    "\n",
    "\n",
    "# Connect to Qdrant\n",
    "config = load_project_config(os.path.join(os.getcwd(), \"config/config.yaml\"))\n",
    "qdrantConfig = QdrantConfig(\n",
    "    host=config[\"db\"][\"qdrant\"][\"connection\"][\"host\"],\n",
    "    port=config[\"db\"][\"qdrant\"][\"connection\"][\"port\"],\n",
    "    timeout=config[\"db\"][\"qdrant\"][\"connection\"][\"timeout\"]\n",
    ")\n",
    "status, client = check_qdrant_status(qdrantConfig)\n",
    "embedding_model = SentenceTransformer(config['embedding_model'])\n",
    "small_collection_name = config['db']['collections']['collection_small']['name']\n",
    "large_collection_name = config['db']['collections']['collection_large']['name']"
   ],
   "outputs": [
    {
     "name": "stdout",
     "output_type": "stream",
     "text": [
      "Connected. Collections: ['wiki_small_chunks', 'wiki_large_chunks']\n"
     ]
    }
   ],
   "execution_count": 9
  },
  {
   "metadata": {
    "ExecuteTime": {
     "end_time": "2025-10-11T17:31:37.491996Z",
     "start_time": "2025-10-11T17:31:37.482701Z"
    }
   },
   "cell_type": "code",
   "source": [
    "result = client.scroll(\n",
    "    collection_name=\"wiki_small_chunks\",\n",
    "    limit=10,\n",
    "    with_payload=True,\n",
    "    with_vectors=True\n",
    ")\n",
    "for point in result[0]:  # result[0] is the list of points\n",
    "    print(point.id, point.payload[\"text\"])\n"
   ],
   "id": "50276c144f721646",
   "outputs": [
    {
     "name": "stdout",
     "output_type": "stream",
     "text": [
      "0005fc6f-7d8b-4c0a-b76b-7a09606a00c2 books, ethnographies). Such is the case with environmental justice advocate Melissa Checker and her relationship with the people of Hyde Park.\n",
      "001cfbbf-d1af-4625-935f-8711a6d8263b Zeno\n",
      "0022f0fb-4022-4240-94e6-5dcc27fee683 Eugene Lawson heads the Community Bank of Madison, then gets a job with the government when his bank goes bankrupt due to new government policies. One of the looter's cabal, he is a collectivist who abhors production and money-making.\n",
      "0027f4c5-352d-4b5f-9355-3c2d4d3c7272 must begin with a consonant. In Cushitic and Chadic languages, a glottal stop or glottal fricative may be inserted to prevent a word from beginning with a vowel. Typically, syllables only begin with a single consonant.\n",
      "0029c247-34ba-41e4-83a0-81e92325f82e As one of the Catalan Countries, Andorra is home to a team of castellers, or Catalan human tower builders. The , based in the town of Santa Coloma d'Andorra, are recognized by the , the governing body of castells.\n",
      "\n",
      "See also\n",
      "\n",
      " Index of Andorra-related articles\n",
      " Outline of Andorra\n",
      " Bibliography of Andorra\n",
      "\n",
      "Explanatory notes\n",
      "\n",
      "Citations\n",
      "\n",
      "General bibliography\n",
      "003a430b-ddd0-4e0a-8004-1f592de389c3 The deaths of their sons, Eddie and Willie, had profound effects on both parents. Lincoln suffered from \"melancholy\", a condition now thought to be clinical depression. Later in life, Mary struggled with the stresses of losing her husband and sons, and Robert committed her for a time to an asylum in 1875.\n",
      "\n",
      "Early career and militia service\n",
      "0058f8d8-d158-4f8c-bb26-4f03df80ba0e Judaism defines altruism as the desired goal of creation. Rabbi Abraham Isaac Kook stated that love is the most important attribute in humanity. Love is defined as bestowal, or giving, which is the intention of altruism. This can be altruism towards humanity that leads to altruism towards the creator or God. Kabbalah defines God as the force of giving in existence. Rabbi Moshe Chaim Luzzatto\n",
      "006426ca-e3bd-4f9e-97a0-df5a5ee0cc84 Diodorus Siculus, Library of History, Volume III: Books 4.59-8, translated by C. H. Oldfather, Loeb Classical Library No. 340. Cambridge, Massachusetts, Harvard University Press, 1939. . Online version at Harvard University Press. Online version by Bill Thayer.\n",
      "00673a75-b546-4340-86dd-fc9e21e6f5cb and later Kairaouan and the interior of Ifriqiya in the east.\n",
      "0072cc66-22ba-4fd6-a4ea-5f25241cdb8c There were two measures passed to raise revenues for the Federal government: tariffs (a policy with long precedent), and a Federal income tax. In 1861, Lincoln signed the second and third Morrill Tariffs, following the first enacted by Buchanan. He also signed the Revenue Act of 1861, creating the first U.S. income tax—a flat tax of 3 percent on incomes above $800 (). The Revenue Act of 1862\n"
     ]
    }
   ],
   "execution_count": 20
  },
  {
   "metadata": {
    "ExecuteTime": {
     "end_time": "2025-10-11T18:02:33.605508Z",
     "start_time": "2025-10-11T18:02:33.583664Z"
    }
   },
   "cell_type": "code",
   "source": [
    "query_text = \"Where is alabama?\"\n",
    "print(f\"\\n--- DEMO: Querying Small Chunks for: '{query_text}' ---\")\n",
    "\n",
    "query_vector = custom_embed_function(embedding_model=embedding_model, texts=[query_text])\n",
    "print(len(query_vector[0]))\n",
    "\n",
    "# query_vector = [0.0] * 384  # same dimension as collection\n",
    "\n",
    "results = client.query_points(\n",
    "    collection_name=\"wiki_small_chunks\",\n",
    "    query=query_vector[0],\n",
    "    limit=5,\n",
    "    with_payload=True\n",
    ")\n",
    "\n",
    "payloads = [point.payload for point in results.points]"
   ],
   "id": "863efe3a198d106c",
   "outputs": [
    {
     "name": "stdout",
     "output_type": "stream",
     "text": [
      "\n",
      "--- DEMO: Querying Small Chunks for: 'Where is alabama?' ---\n",
      "384\n"
     ]
    }
   ],
   "execution_count": 64
  },
  {
   "metadata": {
    "ExecuteTime": {
     "end_time": "2025-10-11T18:02:55.487592Z",
     "start_time": "2025-10-11T18:02:55.485501Z"
    }
   },
   "cell_type": "code",
   "source": [
    "for i in payloads:\n",
    "    print(i[\"parent_id\"])"
   ],
   "id": "1456a4222822daf2",
   "outputs": [
    {
     "name": "stdout",
     "output_type": "stream",
     "text": [
      "a1a83717-a9ab-4719-893f-112d12881d2d\n",
      "903e2b0f-3a5f-4a88-a4d1-103bc2d72de9\n",
      "903e2b0f-3a5f-4a88-a4d1-103bc2d72de9\n",
      "a1a83717-a9ab-4719-893f-112d12881d2d\n",
      "89b8f70b-c6bc-4403-827b-41f3c4c40e42\n"
     ]
    }
   ],
   "execution_count": 67
  },
  {
   "metadata": {
    "ExecuteTime": {
     "end_time": "2025-10-11T18:03:59.393391Z",
     "start_time": "2025-10-11T18:03:59.387832Z"
    }
   },
   "cell_type": "code",
   "source": [
    "result = client.retrieve(\n",
    "    collection_name=\"wiki_large_chunks\",\n",
    "    ids=[\"89b8f70b-c6bc-4403-827b-41f3c4c40e42\"],\n",
    "    with_payload=True\n",
    ")\n",
    "print(result)"
   ],
   "id": "97cb28801c78dc95",
   "outputs": [
    {
     "name": "stdout",
     "output_type": "stream",
     "text": [
      "[Record(id='89b8f70b-c6bc-4403-827b-41f3c4c40e42', payload={'text': 'Flora and fauna \\n\\nAlabama is home to a diverse array of flora and fauna in habitats that range from the Tennessee Valley, Appalachian Plateau, and Ridge-and-Valley Appalachians of the north to the Piedmont, Canebrake, and Black Belt of the central region to the Gulf Coastal Plain and beaches along the Gulf of Mexico in the south. The state is usually ranked among the top in nation for its range of overall biodiversity.\\n\\nAlabama is in the subtropical coniferous forest biome and once boasted huge expanses of pine forest, which still form the largest proportion of forests in the state. It currently ranks fifth in the nation for the diversity of its flora. It is home to nearly 4,000 pteridophyte and spermatophyte plant species.\\n\\nIndigenous animal species in the state include 62 mammal species, 93 reptile species, 73 amphibian species, roughly 307 native freshwater fish species, and 420 bird species that spend at least part of their year within the state. Invertebrates include 97 crayfish species and 383 mollusk species. 113 of these mollusk species have never been collected outside the state.\\n\\nCensus-designated and metropolitan areas\\n\\nCities\\n\\nDemographics', 'title': 'Alabama'}, vector=None, shard_key=None, order_value=None)]\n"
     ]
    }
   ],
   "execution_count": 69
  },
  {
   "metadata": {},
   "cell_type": "code",
   "outputs": [],
   "execution_count": null,
   "source": [
    "from qdrant_client.http import models\n",
    "\n",
    "client.create_payload_index(\n",
    "    collection_name=\"your_collection\",\n",
    "    field_name=\"text\",\n",
    "    field_schema=models.TextIndexParams(\n",
    "        type=\"text\",\n",
    "        tokenizer=models.TokenizerType.WORD,\n",
    "        min_token_len=2,\n",
    "        max_token_len=20\n",
    "    )\n",
    ")"
   ],
   "id": "46b34c32bab4a554"
  }
 ],
 "metadata": {
  "kernelspec": {
   "display_name": "Python 3",
   "language": "python",
   "name": "python3"
  },
  "language_info": {
   "codemirror_mode": {
    "name": "ipython",
    "version": 2
   },
   "file_extension": ".py",
   "mimetype": "text/x-python",
   "name": "python",
   "nbconvert_exporter": "python",
   "pygments_lexer": "ipython2",
   "version": "2.7.6"
  }
 },
 "nbformat": 4,
 "nbformat_minor": 5
}
