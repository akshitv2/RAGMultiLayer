{
 "cells": [
  {
   "cell_type": "code",
   "id": "initial_id",
   "metadata": {
    "collapsed": true,
    "ExecuteTime": {
     "end_time": "2025-10-12T12:26:01.705439Z",
     "start_time": "2025-10-12T12:25:50.280297Z"
    }
   },
   "source": [
    "from fastembed import SparseTextEmbedding\n",
    "from RAG.RAG_query import sparse_query_search\n",
    "from RAG.RAG_query import dense_query_search\n",
    "import os\n",
    "\n",
    "from RAG.RAG_query import get_topics_list\n",
    "from config.loadConfig import load_project_config\n",
    "from DB.qDrant import check_qdrant_status, QdrantConfig\n",
    "from qdrant_client import QdrantClient\n",
    "from sentence_transformers import SentenceTransformer\n",
    "from RAG.RAG_Retrieve import custom_embed_function\n",
    "\n",
    "# Encode the query text using the same model\n",
    "\n",
    "# Connect to Qdrant\n",
    "config = load_project_config(os.path.join(os.getcwd(), \"config/config.yaml\"))\n",
    "qdrantConfig = QdrantConfig(\n",
    "    host=config[\"db\"][\"qdrant\"][\"connection\"][\"host\"],\n",
    "    port=config[\"db\"][\"qdrant\"][\"connection\"][\"port\"],\n",
    "    timeout=config[\"db\"][\"qdrant\"][\"connection\"][\"timeout\"]\n",
    ")\n",
    "status, client = check_qdrant_status(qdrantConfig)\n",
    "embedding_model = SentenceTransformer(config['embedding_model'])\n",
    "sparse_model = SparseTextEmbedding(model_name=\"Qdrant/bm25\")\n",
    "small_collection_name = config['db']['collections']['collection_small']['name']\n",
    "large_collection_name = config['db']['collections']['collection_large']['name']"
   ],
   "outputs": [
    {
     "name": "stdout",
     "output_type": "stream",
     "text": [
      "Connected. Collections: ['wiki_large_chunks', 'wiki_small_chunks']\n"
     ]
    }
   ],
   "execution_count": 1
  },
  {
   "metadata": {
    "ExecuteTime": {
     "end_time": "2025-10-12T12:26:01.722771Z",
     "start_time": "2025-10-12T12:26:01.711242Z"
    }
   },
   "cell_type": "code",
   "source": "get_topics_list(client, num_topics=100)",
   "id": "50276c144f721646",
   "outputs": [
    {
     "name": "stdout",
     "output_type": "stream",
     "text": [
      "0002148b-bd70-425a-b567-df0d26086003 Feleti Sevele\n",
      "0003d157-639b-4841-a514-ae4f53a7232b Abdulaziz\n",
      "000472b5-a875-4fe4-9c14-199d372c4247 Bede\n",
      "0006438e-760a-4bca-b77b-9603315bc238 Apollo 12\n",
      "0006ac4b-bff1-4552-a8dc-b512a821153b Admiralty (United Kingdom)\n",
      "0008d1b0-4812-49c0-b13a-004a221bdb4e Anglicanism\n",
      "00091464-2664-41b8-b2df-76bb16e5d7c7 American Civil Liberties Union\n",
      "000d2c92-16cc-4047-925f-25bb58f8d4c6 Aleister Crowley\n",
      "000f09ab-f2f8-47a9-a0b9-e5308c88c9c9 History of Cameroon\n",
      "00115b13-fbd7-4fea-b19b-21d48261deb5 Riaumont\n",
      "00117c20-3066-4460-be67-3d3ea3eedf90 Calcium\n",
      "0011a341-87ba-41f8-94b9-ff098cf47d95 Acts of Union 1707\n",
      "0014a554-901d-43b9-9cf9-fbae06b1da78 Anatomy\n",
      "001605af-fd2c-4b15-a931-f88cdf646d56 1985–86 in English football\n",
      "0016aad5-da48-448f-934e-b8da94c3b130 American National Standards Institute\n",
      "001735ea-8a83-4168-af9a-1815ce572bd5 Battlecruiser\n",
      "00176d00-b342-4d7e-b867-66dbd3f8fab8 Burgundians\n",
      "0017cd6b-376a-49a7-94e9-79315dd685c1 Battle of Stalingrad\n",
      "001869d7-fefa-4f00-908c-2140d6c528e4 August 9\n",
      "0018f9e7-57e4-4063-962b-72cd79ad6fa6 Automated theorem proving\n",
      "001bfd78-f324-4fc6-b237-a7088646d23c Belfast\n",
      "001c7057-b1c6-4070-997c-8b0bf89db102 Common buzzard\n",
      "001d4a13-1e74-4186-ad86-cc60981dc5c4 Appellate procedure in the United States\n",
      "001de24c-d4bc-4d65-9693-2326058c0a80 Altaic languages\n",
      "001ec0e4-4aa4-4151-9913-72364a11793a Americans with Disabilities Act of 1990\n",
      "001ed625-6858-45cb-b5dc-df0ff68782f4 Strays of York\n",
      "001f551a-95f3-4eea-b5b5-ad4850f11e1e Zebrafish\n",
      "001f97bd-bf9e-4648-916a-2094fa409914 BDSM\n",
      "00204fc1-3921-4be2-8fc3-b98deba876e7 Archbishop of Canterbury\n",
      "002089b1-c534-4642-afa0-382235492879 History of Cambodia\n",
      "00213221-f027-485e-a01a-0f6480af6761 History of baseball in the United States\n",
      "00229fb4-b87f-4b1e-be9b-2abecfaef26b Atari ST\n",
      "00235477-0fa5-45dc-a37e-bac9a336b414 Celebrity\n",
      "0024e162-0d3f-47bf-aa78-099ed0e92961 Sonny King (singer)\n",
      "002638ac-a5a0-4dc0-b9a3-b8f83b1c3834 Agrippina the Elder\n",
      "00264f03-a6db-462b-800d-3a0fa9a75ae5 Ayn Rand\n",
      "00266803-0875-4c4b-8caf-0e372de4f602 Walter Welford\n",
      "00268069-699b-4dd7-9abe-1aee8a0806a4 Arable land\n",
      "00277e55-f26b-4971-9da1-058a46d8f730 Artificial intelligence\n",
      "002a231f-2b33-43ab-b84c-b4380acfd131 Economy of Alberta\n",
      "002c8454-b774-4ac3-8fa1-c48cd33a76f1 Bronze\n",
      "002d9a93-0a90-4979-b16b-89d7652adb37 Burkina Faso\n",
      "002ecf80-ee7f-41be-8ae7-1ab11efb3ead Bangladesh\n",
      "00311215-521d-43f1-bcf9-2c2d624a01ff Brewing\n",
      "00355b43-4c19-403d-b1df-632e019bd812 Achill Island\n",
      "00356f2d-306f-4c94-98da-3594e7195849 Charles Baudelaire\n",
      "0036575b-85eb-4927-bd15-b5b5131ab9ad Amsterdam\n",
      "00367286-35f9-4a14-ab35-bb256dc2def2 Dibber\n",
      "0037b9b6-5576-4ca4-9301-af28b1c8c2cb Andre Agassi\n",
      "0038f11f-9bf1-4713-9b7b-fd9b4f7a45de C. S. Lewis\n",
      "0039484e-7040-4dbd-884f-44cee85ba2c0 Birka\n",
      "003bdcd9-920e-4f34-a257-abba20ab3648 Arteriovenous malformation\n",
      "003bf012-a79a-4c70-b3e6-6045ca04e44a Benin\n",
      "003ca391-8cef-4e61-b7f9-8eefeabd36d6 Alexandria\n",
      "003e56a1-9cb1-46c3-8c89-db1e96328175 Snowboarding at the Winter Olympics\n",
      "003f22df-4652-4cb3-8c92-b606698fb605 Cayman Islands\n",
      "0040a715-29ef-416a-9c62-9899c8a68b98 British Museum\n",
      "0040e053-d9bf-4126-a30c-4989b0a5c53c Background radiation\n",
      "0041a0b3-1235-44b7-84ba-6f6e3e8c6465 Brabham\n",
      "0041fd92-d095-4d01-ad83-01159bb0358b Benzodiazepine\n",
      "0042724f-0e18-43da-8133-c9049305786e Charlemagne\n",
      "0043ee50-9e97-4b98-af72-3081b3a110c5 Brunei\n",
      "004407e3-bf7f-4fbd-9475-83e4f5c76f66 Bowls\n",
      "00444aaa-51c7-47ad-a0a0-3dc540f13757 Brisbane Broncos\n",
      "004625d2-4824-40af-add7-1d426daa11ac Alkali metal\n",
      "00466d18-3b07-490c-aad9-0ca062e14bd4 Turin Metro\n",
      "00486baa-f88f-4cbd-a8f1-76c150ca26ba Aaliyah\n",
      "004a0c02-7f00-47df-8896-7cb6ba10f0e7 Creutzfeldt–Jakob disease\n",
      "004bf352-21bf-4e91-8dec-1d937b4b35cc Gina Kingsbury\n",
      "004c13e4-cda9-464c-ac6b-42da6e8ec2f8 Bristol City F.C.\n",
      "004c64ac-e4c6-45b4-b710-abaab81781cf Arabic\n",
      "004cae3b-f748-4477-b5a3-e2daccba50c7 August 6\n",
      "004d2d10-fa83-4c4c-9c8b-5566709fc33c Balfour Declaration\n",
      "004df04c-20d4-4ca9-a6ae-f2e610fbcb6e Negrești\n",
      "004ed456-4203-4c7e-97c6-6b3093df060e Abel\n",
      "004f31e0-1f27-47c4-a448-82adc196b567 Arraignment\n",
      "004f83fc-677f-4a38-9f78-4b1c38b4ee68 List of symphony orchestras in Europe\n",
      "004f93b7-a264-4c35-9758-cfbb4f5d6a38 House of Bonaparte\n",
      "0050b963-3748-42b9-866f-858deceb76cd Babe Ruth\n",
      "00533b04-909a-4fab-99d5-b7f7df009ff0 History of Colombia\n",
      "005452fc-de68-4758-a3ba-bca199df3f9c Ainu people\n",
      "0054a69e-c5f3-49a2-9408-178e44ed0e05 Paul Linwood\n",
      "0055e346-7994-40ff-8884-14d83568e4ac Sullivan Athletic Center\n",
      "00567420-c230-4a6a-874d-173f56709e3f Antidepressant\n",
      "0057a83b-269d-4125-92b2-96fa2075d81b Strange Cargo 2\n",
      "0057d720-2c0c-4abf-956b-b6d284cc5d2e Cultural movement\n",
      "005a35ae-bbf4-46b7-945f-e95cd4432807 Tank destroyer\n",
      "005ab50b-e639-48fe-97ec-970716486c62 Geography of Azerbaijan\n",
      "005bd84d-a6ac-45a2-9b38-b27799d4e655 Chariots of Fire\n",
      "005bedf3-cff2-46c5-bed7-35088f3b65fb Antarctic Treaty System\n",
      "005f77d6-e01c-4336-b904-307ae13f4df4 Agent Orange\n",
      "00607871-9d65-48ce-ace7-b297c5157a20 Abu al-Faraj al-Isfahani\n",
      "00610658-65d6-4bfd-8b22-15ee4b9ef8b0 California\n",
      "00615538-46b8-4af4-b2f2-bed94dc046e2 National Baseball Hall of Fame and Museum\n",
      "00627878-4f3c-43af-9fab-e51b2a736808 APL\n",
      "00634a1c-18f0-464d-8f25-81e212e88988 Abraham\n",
      "0063da6a-4db1-4263-af8b-a71a6523b05b Antipope John XXIII\n",
      "006419cb-717e-49a2-a9ad-286736e01bd9 Adelaide\n",
      "00648f9e-b899-4866-b792-2cdc6926d23f 1983–84 in English football\n",
      "00650060-e4c1-4f5e-a961-200cf39d3e6d Battle of Blenheim\n"
     ]
    }
   ],
   "execution_count": 2
  },
  {
   "metadata": {
    "ExecuteTime": {
     "end_time": "2025-10-12T12:26:02.722670Z",
     "start_time": "2025-10-12T12:26:01.758914Z"
    }
   },
   "cell_type": "code",
   "source": [
    "query_text = \"Who was Charlemagne?\"\n",
    "results = sparse_query_search(client, query_text, print_results=True)"
   ],
   "id": "d4eac9fbe5d9dd4b",
   "outputs": [
    {
     "name": "stdout",
     "output_type": "stream",
     "text": [
      "\n",
      "--- : Querying Small Chunks for: 'Who was Charlemagne?' ---\n",
      "The Economist featured a weekly column entitled \"Charlemagne\", focusing generally on European affairs and, more usually and specifically, on the European Union and its politics.  Actor and singer Christopher Lee's symphonic metal concept album Charlemagne: By the Sword and the Cross and its heavy metal follow-up Charlemagne: The Omens of Death feature the events of Charlemagne's life.\n",
      "of his father, Pepin. Desiderius sent his own ambassadors denying the pope's charges. The ambassadors met at Thionville, and Charlemagne upheld the pope's side. Charlemagne demanded what the pope had requested, but Desiderius swore never to comply. Charlemagne and his uncle Bernard crossed the Alps in 773 and chased the Lombards back to Pavia, which they then besieged. Charlemagne temporarily\n",
      "In April 2014, on the occasion of the 1200th anniversary of Charlemagne's death, public art Mein Karl by Ottmar Hörl at Katschhof place was installed between city hall and the Aachen cathedral, displaying 500 Charlemagne statues.  Charlemagne features as a playable character in the 2014 Charlemagne expansion for the grand strategy video game Crusader Kings 2.\n",
      "The Making of Charlemagne's Europe (freely available database of prosopographical and socio-economic data from legal documents dating to Charlemagne's reign, produced by King's College London)      The Sword of Charlemagne (myArmoury.com article)\n",
      "but the counts of Genoa and Tuscany (Boniface) controlled them with large fleets until the end of Charlemagne's reign. Charlemagne even had contact with the caliphal court in Baghdad. In 797 (or possibly 801), the caliph of Baghdad, Harun al-Rashid, presented Charlemagne with an Asian elephant named Abul-Abbas and a clock.\n"
     ]
    }
   ],
   "execution_count": 3
  },
  {
   "metadata": {
    "ExecuteTime": {
     "end_time": "2025-10-12T12:26:05.896570Z",
     "start_time": "2025-10-12T12:26:02.773173Z"
    }
   },
   "cell_type": "code",
   "source": [
    "query_text = \"Who was Charlemagne?\"\n",
    "results = dense_query_search(client, query_text, print_results=True)"
   ],
   "id": "7dc40a8e71836267",
   "outputs": [
    {
     "name": "stdout",
     "output_type": "stream",
     "text": [
      "\n",
      "--- : Querying Small Chunks for: 'Who was Charlemagne?' ---\n",
      "384\n",
      "him. As an administrator, Charlemagne stands out for his many reforms: monetary, governmental, military, cultural and ecclesiastical. He is the main protagonist of the \"Carolingian Renaissance\".\n",
      "Visigoths and Carolingians: the legend of Charlemagne\n",
      "Visigoths and Carolingians: the legend of Charlemagne\n",
      "In July 2022, Charlemagne featured as a character in an episode of The Family Histories Podcast, and it references his role as an ancestor of all modern Europeans. He is portrayed here in later life, and is speaking Latin, which is translated by a device. He is returned to 9th Century Aquitaine by the end of the episode after a DNA sample has been extracted.  Notes  References  Citations\n",
      "Jews in Charlemagne's realm\n"
     ]
    }
   ],
   "execution_count": 4
  },
  {
   "metadata": {
    "ExecuteTime": {
     "end_time": "2025-10-12T17:26:21.323884Z",
     "start_time": "2025-10-12T17:26:15.814545Z"
    }
   },
   "cell_type": "code",
   "source": "hierarchical_search(client, query_text, use_deep_embedding=True, print_results=True)",
   "id": "c8d801eb3a5835fe",
   "outputs": [
    {
     "name": "stdout",
     "output_type": "stream",
     "text": [
      "\n",
      "--- : Querying Small Chunks for: 'Who was Charlemagne?' ---\n",
      "384\n",
      "Administration  Organisation The Carolingian king exercised the bannum, the right to rule and command. Under the Franks, it was a royal prerogative but could be delegated. He had supreme jurisdiction in judicial matters, made legislation, led the army, and protected both the Church and the poor. His administration was an attempt to organise the kingdom, church and nobility around him. As an administrator, Charlemagne stands out for his many reforms: monetary, governmental, military, cultural and ecclesiastical. He is the main protagonist of the \"Carolingian Renaissance\".  Military Charlemagne's success rested primarily on novel siege technologies and excellent logistics rather than the long-claimed \"cavalry revolution\" led by Charles Martel in 730s. However, the stirrup, which made the \"shock cavalry\" lance charge possible, was not introduced to the Frankish kingdom until the late eighth century.  Horses were used extensively by the Frankish military because they provided a quick, long-distance method of transporting troops, which was critical to building and maintaining the large empire.  Economic and monetary reforms  Charlemagne had an important role in determining Europe's immediate economic future. Pursuing his father's reforms, Charlemagne abolished the monetary system based on the gold . Instead, he and the Anglo-Saxon King Offa of Mercia took up Pippin's system for pragmatic reasons, notably a shortage of the metal.\n",
      "Iberian and Roman Andorra  The inhabitants of the valleys were traditionally associated with the Iberians and historically located in Andorra as the Iberian tribe Andosins or Andosini () during the 7th and 2nd centuries BC. Influenced by the Aquitanian, Basque and Iberian languages, the locals developed some current toponyms. Early writings and documents relating to this group of people goes back to the second century BC by the Greek writer Polybius in his Histories during the Punic Wars.  Some of the most significant remains of this era are the Castle of the Roc d'Enclar (part of the early Marca Hispanica), l'Anxiu in Les Escaldes and Roc de L'Oral in Encamp.  The presence of Roman influence is recorded from the 2nd century BCE to the 5th century CE. The places with the most Roman presence are in Camp Vermell (Red Field) in Sant Julià de Lòria, and in some places in Encamp, as well as in the Roc d'Enclar. People continued trading, mainly with wine and cereals, with the Roman cities of Urgellet (the present-day La Seu d'Urgell) and all across Segre through the via romana Strata Ceretana (also known as Strata Confluetana).  Visigoths and Carolingians: the legend of Charlemagne\n",
      "Visigoths and Carolingians: the legend of Charlemagne  After the fall of the Roman Empire, Andorra came under the influence of the Visigoths, the Kingdom of Toledo, and the Diocese of Urgell. The Visigoths remained in the valleys for 200 years, during which time Christianity spread. When the Muslim Empire of Al-Andalus replaced the ruling Visigoths in most of the Iberian Peninsula, Andorra was sheltered from these Arab invaders by the Franks.  Tradition holds that Charles the Great (Charlemagne) granted a charter to the Andorran people for a contingent of 5,000 soldiers under the command of Marc Almugaver, in return for fighting against the Moors near Porté-Puymorens (Cerdanya).  Andorra remained part of the Frankish Marca Hispanica, the buffer zone between the Frankish Empire and the Muslim territories, Andorra being part of the territory ruled by the Count of Urgell and eventually the bishop of the Diocese of Urgell. Tradition also holds that it was guaranteed by the son of Charlemagne, Louis the Pious, writing the Carta de Poblament or a local municipal charter .  In 988, Count Borrell II of Urgell gave the Andorran valleys to the Diocese of Urgell in exchange for land in Cerdanya. Since then, the bishop of Urgell, based in Seu d'Urgell, has been co-prince of Andorra.\n",
      "Charlemagne is a playable character in the Mobile/PC Game Rise of Kingdoms.  In the 2018 video game Fate/Extella Link, Charlemagne appears as a Heroic Spirit separated into two Saint Graphs: the adventurous hero Charlemagne, who embodies the fantasy aspect as leader of the Twelve Paladins, and the villain Karl de Große, who embodies the historical aspect as Holy Roman Emperor.  In July 2022, Charlemagne featured as a character in an episode of The Family Histories Podcast, and it references his role as an ancestor of all modern Europeans. He is portrayed here in later life, and is speaking Latin, which is translated by a device. He is returned to 9th Century Aquitaine by the end of the episode after a DNA sample has been extracted.  Notes  References  Citations  Bibliography   Charlemagne, from Encyclopædia Britannica, full-article, latest edition.                                                                           Comprises the Annales regni Francorum and The History of the Sons of Louis the Pious  External links\n",
      "Jews in Charlemagne's realm Early in Charlemagne's rule he tacitly allowed Jews to monopolise money lending. He invited Italian Jews to immigrate, as royal clients independent of the feudal landowners, and form trading communities in the agricultural regions of Provence and the Rhineland. Their trading activities augmented the otherwise almost exclusively agricultural economies of these regions. His personal physician was Jewish, and he employed a Jew named Isaac as his personal representative to the Muslim caliphate of Baghdad.  Education reforms  Part of Charlemagne's success as a warrior, an administrator and ruler can be traced to his admiration for learning and education. His reign is often referred to as the Carolingian Renaissance because of the flowering of scholarship, literature, art and architecture that characterise it. Charlemagne came into contact with the culture and learning of other countries (especially Moorish Spain, Anglo-Saxon England, and Lombard Italy) due to his vast conquests. He greatly increased the provision of monastic schools and scriptoria (centres for book-copying) in Francia.  Charlemagne was a lover of books, sometimes having them read to him during meals. He was thought to enjoy the works of Augustine of Hippo. His court played a key role in producing books that taught elementary Latin and different aspects of the church. It also played a part in creating a royal library that contained in-depth works on language and Christian faith.\n"
     ]
    },
    {
     "data": {
      "text/plain": [
       "[Record(id='90c224c1-60e5-42a8-9cd0-69faafa396cd', payload={'text': 'Administration\\n\\nOrganisation\\nThe Carolingian king exercised the bannum, the right to rule and command. Under the Franks, it was a royal prerogative but could be delegated. He had supreme jurisdiction in judicial matters, made legislation, led the army, and protected both the Church and the poor. His administration was an attempt to organise the kingdom, church and nobility around him. As an administrator, Charlemagne stands out for his many reforms: monetary, governmental, military, cultural and ecclesiastical. He is the main protagonist of the \"Carolingian Renaissance\".\\n\\nMilitary\\nCharlemagne\\'s success rested primarily on novel siege technologies and excellent logistics rather than the long-claimed \"cavalry revolution\" led by Charles Martel in 730s. However, the stirrup, which made the \"shock cavalry\" lance charge possible, was not introduced to the Frankish kingdom until the late eighth century.\\n\\nHorses were used extensively by the Frankish military because they provided a quick, long-distance method of transporting troops, which was critical to building and maintaining the large empire.\\n\\nEconomic and monetary reforms\\n\\nCharlemagne had an important role in determining Europe\\'s immediate economic future. Pursuing his father\\'s reforms, Charlemagne abolished the monetary system based on the gold . Instead, he and the Anglo-Saxon King Offa of Mercia took up Pippin\\'s system for pragmatic reasons, notably a shortage of the metal.', 'title': 'Charlemagne'}, vector=None, shard_key=None, order_value=None),\n",
       " Record(id='6025a484-bd68-43a0-94f1-fcd5b48f142b', payload={'text': \"Iberian and Roman Andorra\\n\\nThe inhabitants of the valleys were traditionally associated with the Iberians and historically located in Andorra as the Iberian tribe Andosins or Andosini () during the 7th and 2nd centuries BC. Influenced by the Aquitanian, Basque and Iberian languages, the locals developed some current toponyms. Early writings and documents relating to this group of people goes back to the second century BC by the Greek writer Polybius in his Histories during the Punic Wars.\\n\\nSome of the most significant remains of this era are the Castle of the Roc d'Enclar (part of the early Marca Hispanica), l'Anxiu in Les Escaldes and Roc de L'Oral in Encamp.\\n\\nThe presence of Roman influence is recorded from the 2nd century BCE to the 5th century CE. The places with the most Roman presence are in Camp Vermell (Red Field) in Sant Julià de Lòria, and in some places in Encamp, as well as in the Roc d'Enclar. People continued trading, mainly with wine and cereals, with the Roman cities of Urgellet (the present-day La Seu d'Urgell) and all across Segre through the via romana Strata Ceretana (also known as Strata Confluetana).\\n\\nVisigoths and Carolingians: the legend of Charlemagne\", 'title': 'Andorra'}, vector=None, shard_key=None, order_value=None),\n",
       " Record(id='ba0c6be7-1992-4bd6-a1f5-8b3718665108', payload={'text': \"Visigoths and Carolingians: the legend of Charlemagne\\n\\nAfter the fall of the Roman Empire, Andorra came under the influence of the Visigoths, the Kingdom of Toledo, and the Diocese of Urgell. The Visigoths remained in the valleys for 200 years, during which time Christianity spread. When the Muslim Empire of Al-Andalus replaced the ruling Visigoths in most of the Iberian Peninsula, Andorra was sheltered from these Arab invaders by the Franks.\\n\\nTradition holds that Charles the Great (Charlemagne) granted a charter to the Andorran people for a contingent of 5,000 soldiers under the command of Marc Almugaver, in return for fighting against the Moors near Porté-Puymorens (Cerdanya).\\n\\nAndorra remained part of the Frankish Marca Hispanica, the buffer zone between the Frankish Empire and the Muslim territories, Andorra being part of the territory ruled by the Count of Urgell and eventually the bishop of the Diocese of Urgell. Tradition also holds that it was guaranteed by the son of Charlemagne, Louis the Pious, writing the Carta de Poblament or a local municipal charter .\\n\\nIn 988, Count Borrell II of Urgell gave the Andorran valleys to the Diocese of Urgell in exchange for land in Cerdanya. Since then, the bishop of Urgell, based in Seu d'Urgell, has been co-prince of Andorra.\", 'title': 'Andorra'}, vector=None, shard_key=None, order_value=None),\n",
       " Record(id='0b23095b-b2e3-455f-8416-4aa722806fdc', payload={'text': 'Charlemagne is a playable character in the Mobile/PC Game Rise of Kingdoms.\\n\\nIn the 2018 video game Fate/Extella Link, Charlemagne appears as a Heroic Spirit separated into two Saint Graphs: the adventurous hero Charlemagne, who embodies the fantasy aspect as leader of the Twelve Paladins, and the villain Karl de Große, who embodies the historical aspect as Holy Roman Emperor.\\n\\nIn July 2022, Charlemagne featured as a character in an episode of The Family Histories Podcast, and it references his role as an ancestor of all modern Europeans. He is portrayed here in later life, and is speaking Latin, which is translated by a device. He is returned to 9th Century Aquitaine by the end of the episode after a DNA sample has been extracted.\\n\\nNotes\\n\\nReferences\\n\\nCitations\\n\\nBibliography\\n\\n Charlemagne, from Encyclopædia Britannica, full-article, latest edition.\\n \\n \\n \\n \\n \\n \\n \\n \\n \\n \\n \\n \\n \\n \\n \\n \\n \\n \\n \\n \\n \\n \\n \\n \\n \\n \\n \\n \\n \\n \\n \\n \\n \\n \\n \\n \\n  Comprises the Annales regni Francorum and The History of the Sons of Louis the Pious\\n\\nExternal links', 'title': 'Charlemagne'}, vector=None, shard_key=None, order_value=None),\n",
       " Record(id='5526f281-131e-4fa1-afdc-c5fcefa5df4f', payload={'text': \"Jews in Charlemagne's realm\\nEarly in Charlemagne's rule he tacitly allowed Jews to monopolise money lending. He invited Italian Jews to immigrate, as royal clients independent of the feudal landowners, and form trading communities in the agricultural regions of Provence and the Rhineland. Their trading activities augmented the otherwise almost exclusively agricultural economies of these regions. His personal physician was Jewish, and he employed a Jew named Isaac as his personal representative to the Muslim caliphate of Baghdad.\\n\\nEducation reforms\\n\\nPart of Charlemagne's success as a warrior, an administrator and ruler can be traced to his admiration for learning and education. His reign is often referred to as the Carolingian Renaissance because of the flowering of scholarship, literature, art and architecture that characterise it. Charlemagne came into contact with the culture and learning of other countries (especially Moorish Spain, Anglo-Saxon England, and Lombard Italy) due to his vast conquests. He greatly increased the provision of monastic schools and scriptoria (centres for book-copying) in Francia.\\n\\nCharlemagne was a lover of books, sometimes having them read to him during meals. He was thought to enjoy the works of Augustine of Hippo. His court played a key role in producing books that taught elementary Latin and different aspects of the church. It also played a part in creating a royal library that contained in-depth works on language and Christian faith.\", 'title': 'Charlemagne'}, vector=None, shard_key=None, order_value=None)]"
      ]
     },
     "execution_count": 14,
     "metadata": {},
     "output_type": "execute_result"
    }
   ],
   "execution_count": 14
  },
  {
   "metadata": {
    "ExecuteTime": {
     "end_time": "2025-10-12T12:26:05.954370Z",
     "start_time": "2025-10-12T12:26:05.948116Z"
    }
   },
   "cell_type": "code",
   "source": [
    "result = client.retrieve(\n",
    "    collection_name=\"wiki_large_chunks\",\n",
    "    ids=[\"035951e1-74e1-450e-a6a8-5bf9440fbad1\"],\n",
    "    with_payload=True\n",
    ")\n",
    "print(result)"
   ],
   "id": "97cb28801c78dc95",
   "outputs": [
    {
     "name": "stdout",
     "output_type": "stream",
     "text": [
      "[]\n"
     ]
    }
   ],
   "execution_count": 5
  }
 ],
 "metadata": {
  "kernelspec": {
   "display_name": "Python 3",
   "language": "python",
   "name": "python3"
  },
  "language_info": {
   "codemirror_mode": {
    "name": "ipython",
    "version": 2
   },
   "file_extension": ".py",
   "mimetype": "text/x-python",
   "name": "python",
   "nbconvert_exporter": "python",
   "pygments_lexer": "ipython2",
   "version": "2.7.6"
  }
 },
 "nbformat": 4,
 "nbformat_minor": 5
}
