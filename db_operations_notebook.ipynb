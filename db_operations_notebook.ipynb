{
 "cells": [
  {
   "cell_type": "code",
   "id": "initial_id",
   "metadata": {
    "collapsed": true,
    "ExecuteTime": {
     "end_time": "2025-10-15T10:30:37.485340Z",
     "start_time": "2025-10-15T10:30:23.817351Z"
    }
   },
   "source": [
    "from fastembed import SparseTextEmbedding\n",
    "from RAG.RAG_query import *\n",
    "import os\n",
    "\n",
    "from RAG.RAG_query import get_topics_list\n",
    "from config.loadConfig import load_project_config\n",
    "from DB.qDrant import check_qdrant_status, QdrantConfig\n",
    "from qdrant_client import QdrantClient\n",
    "from sentence_transformers import SentenceTransformer\n",
    "from RAG.RAG_Retrieve import custom_embed_function\n",
    "\n",
    "# Encode the query text using the same model\n",
    "\n",
    "# Connect to Qdrant\n",
    "config = load_project_config(os.path.join(os.getcwd(), \"config/config.yaml\"))\n",
    "qdrantConfig = QdrantConfig(\n",
    "    host=config[\"db\"][\"qdrant\"][\"connection\"][\"host\"],\n",
    "    port=config[\"db\"][\"qdrant\"][\"connection\"][\"port\"],\n",
    "    timeout=config[\"db\"][\"qdrant\"][\"connection\"][\"timeout\"]\n",
    ")\n",
    "status, client = check_qdrant_status(qdrantConfig)\n",
    "embedding_model = SentenceTransformer(config['embedding_model'])\n",
    "sparse_model = SparseTextEmbedding(model_name=\"Qdrant/bm25\")\n",
    "small_collection_name = config['db']['collections']['collection_small']['name']\n",
    "large_collection_name = config['db']['collections']['collection_large']['name']"
   ],
   "outputs": [
    {
     "name": "stdout",
     "output_type": "stream",
     "text": [
      "Connected. Collections: ['wiki_large_chunks', 'wiki_small_chunks']\n"
     ]
    }
   ],
   "execution_count": 1
  },
  {
   "metadata": {
    "ExecuteTime": {
     "end_time": "2025-10-15T10:30:39.478555Z",
     "start_time": "2025-10-15T10:30:39.454893Z"
    }
   },
   "cell_type": "code",
   "source": "get_topics_list(client, num_topics=100)",
   "id": "50276c144f721646",
   "outputs": [
    {
     "name": "stdout",
     "output_type": "stream",
     "text": [
      "008b7b75-2108-429e-8660-0ea16a0df3aa Academy Awards\n",
      "00a690a3-2601-4f17-ac68-2e25dbfc830b Alain Connes\n",
      "00a9e4e0-b1e6-474d-909a-ff2dc080ac7b Appellate procedure in the United States\n",
      "00b0f22c-f37b-4670-b045-3018e271356f Austin (disambiguation)\n",
      "00cd3a49-fdee-44c8-8925-9c25cf049ffd Anthropology\n",
      "00dacad5-13f6-40af-a7c5-0849a919912f Afroasiatic languages\n",
      "00fb841f-fb4e-4d0f-87cc-732dfd363900 Algeria\n",
      "011e91c4-fd34-4f64-ba66-5aeb83788382 Apollo\n",
      "0158886f-837d-4cb9-a7f0-d0fbb3288dbd Algeria\n",
      "02250f07-9063-466f-bd3f-2ff49d0423b7 Andorra\n",
      "02811e75-04e9-41e9-813f-095a28ea77e1 Andre Agassi\n",
      "0289050d-5031-4f8f-ad0e-b8b485912547 Algeria\n",
      "02b6acb8-fc28-4d9f-b6e5-f0d0e6a2433f Altruism\n",
      "02c18c00-6ecd-48fa-9784-ca4c200c0f9e Afroasiatic languages\n",
      "02d41de5-acb8-4d93-b2ee-b517dbe06898 Abraham Lincoln\n",
      "02f35640-6356-4a14-8874-631251b3c494 Alchemy\n",
      "02f97844-d768-44f9-b6c2-633341fc2f75 Albedo\n",
      "030446c4-14dd-40f0-a8b3-2d8735791b64 Algeria\n",
      "032679a7-bb08-4b16-91df-c6f66c5517b5 Ayn Rand\n",
      "03403545-a248-44b9-80b3-22edd57f8067 ASCII\n",
      "039d1dd7-8995-4ff7-91d9-9667f83f324e Alchemy\n",
      "03c9b0f4-358f-4f45-bfa2-360ca2ebd733 Achilles\n",
      "03d43716-7223-42c6-9edc-2b7045b345c4 Alkane\n",
      "03e032af-81d2-4cd4-9fea-cc5e3b072c3d Aldous Huxley\n",
      "040ca562-e851-4bc6-8a73-8b6030dd997d Appellate procedure in the United States\n",
      "042cca5e-7c25-4a4a-a75d-37dd7ea7b550 Apollo\n",
      "04443cec-52ad-4a71-84ff-c55b3b6c8c33 Austroasiatic languages\n",
      "046d6d24-a660-4155-946a-04a00c293985 Alaska\n",
      "04809a5f-c4e1-4147-a5df-32c3f8b7f6e6 Abraham Lincoln\n",
      "048b0c56-ca58-4212-a564-ebfdfb4a8162 Alaska\n",
      "04a0e0ec-f7a1-43d1-9ee5-274d18389e94 Alabama\n",
      "0528f567-7f95-46d2-82ca-f4b4fa46af95 Andre Agassi\n",
      "0552ed9f-66b6-4a0b-8224-3deec209a19e Algae\n",
      "056d0bb7-14e7-49ac-9e6f-55b5fed33da7 Anthropology\n",
      "05975443-00f7-43e1-b744-1145bac604a3 Afroasiatic languages\n",
      "05bc6ede-c7a7-4195-9f9b-8dc5de9ad7be Ayn Rand\n",
      "05c74cf7-ca9d-44d1-9e6e-33c3aab92969 Agriculture\n",
      "062645b1-9718-4f9b-af1d-d36b99144622 Agriculture\n",
      "0709292f-d1c4-411c-a4a6-3c055ef3b513 Analysis of variance\n",
      "0742fada-d3eb-4730-acc8-541ba4ab356e Alabama\n",
      "075295ef-36cc-4324-a47a-e30f59c51aef Analysis of variance\n",
      "075721c1-9fff-4a93-9901-89d950e3b4f6 Alaska\n",
      "07c34fa1-a28a-4646-9494-eee4e406c004 Alabama\n",
      "07f084f0-7d7a-4c8d-be73-d56cf2197067 Animation\n",
      "080a2aab-a5d2-4628-bb70-93ae1668aaf7 Apollo\n",
      "08c67d81-5497-4b40-8182-d5d8ee929fa6 Anarchism\n",
      "08d35163-7d6b-4a5b-aa12-70c28c10fab3 Agriculture\n",
      "0951cbc4-a84f-40c3-bb7f-20aba8250763 Afroasiatic languages\n",
      "09601126-c63d-44c7-a17a-7970e69f1a4a Animal Farm\n",
      "09683663-3180-41a4-b5ac-6da5d2517344 Agriculture\n",
      "097070fd-195c-45ce-a6f0-c834cbe03a49 Ada\n",
      "099dfa33-233f-4eff-a5ad-cfd989cd3930 Aristotle\n",
      "09cc244e-fa4e-4fa9-9d41-f7ef71e9619d Algeria\n",
      "09d4d381-4d52-4b04-91e4-93e4fa97338a Alkane\n",
      "0a153f61-1e3b-4545-aa09-57ef4a0570fb Aldous Huxley\n",
      "0a397eaf-ff82-43e8-8453-f210f3596e2a Amphibian\n",
      "0a694dce-1a08-40a5-b5a2-41c95ebfece3 Alabama\n",
      "0a8048a1-5ce6-4d4a-8c6b-a643e1f24b94 Algeria\n",
      "0ae35fce-2318-40cf-84ec-efe58df6a608 Afroasiatic languages\n",
      "0ae85727-b268-4b66-817a-3624882a3ba8 Andre Agassi\n",
      "0b05bc04-b50d-4902-a8ff-bbdf5de07ae0 Alabama\n",
      "0ba02f3e-69d2-43ca-9ee0-c38e3d9dce3a Abraham Lincoln\n",
      "0bfbb36a-c9f0-401b-bbd9-6724c8c76b7e Animation\n",
      "0c08eac9-2aa8-4ab0-a6c2-d678b09278d8 Algeria\n",
      "0c3e40d5-71b4-4c05-8dcd-7d3e775f6082 Altruism\n",
      "0d02dc58-5465-479a-bd73-eade32fcc8e2 Ayn Rand\n",
      "0d45a8ea-8b2e-46c8-beca-d051f8b57590 Alabama\n",
      "0d5cfc3f-4dfc-40e9-bffa-9d097a0fd5fe Amphibian\n",
      "0daed1ab-c6ce-4050-b868-263b0ed00dba Animation\n",
      "0db2f906-d753-4ca2-af92-d9ff2edfb4df Alaska\n",
      "0dd8bd65-cbbc-45d4-8e5e-43425ab30342 Allan Dwan\n",
      "0de13d11-e923-4f6f-82c7-755a86660e2c Apollo\n",
      "0e490fbc-8ccb-4ead-84d9-bd3e172d5591 Algeria\n",
      "0e5281b3-92e6-4c2e-a48e-9eba84d3c5a1 Aristotle\n",
      "0e54267a-d9e1-4984-83b0-aa34e96ca69b Anthropology\n",
      "0e8ca60e-8bc4-4710-8609-22d5633cf343 Ayn Rand\n",
      "0eaa294d-6a9c-46da-a588-3e23a519e2d2 Alaska\n",
      "0ec491fc-bde8-4e4c-8fba-4d6667c55edf Algae\n",
      "0ed005e2-97d9-40b8-bbd3-600daf42ac15 Academy Awards\n",
      "0ee36563-0e39-4213-9e32-16d87c3b8582 Animal Farm\n",
      "0f0a79b1-c799-4ab1-9de7-b5fa75d298ff Alchemy\n",
      "0f4be23a-e22f-46ad-8593-e0d24b3a282a Agriculture\n",
      "0f86645f-b166-4f71-b42e-a7cc74a172f4 Animation\n",
      "0f9c4b09-6ba3-414b-a93e-32f001c07ea8 Alabama\n",
      "0ffa9cd1-57cc-4679-b1ec-579c58449b1d Anarchism\n",
      "10184268-1336-4b59-b815-dcfa71dda244 Academy Awards\n",
      "101ecdea-c556-4856-b4a7-a679c72046d0 Academy Awards\n",
      "102d985f-52fb-4a35-90cb-f8e7407f6f0d Afroasiatic languages\n",
      "10384715-2e1c-495e-941f-6391f90b8aa5 Alchemy\n",
      "1074c60f-0353-48a3-a7f0-086826330b24 Alaska\n",
      "10b4cec7-325b-4f7f-9117-afeebf4aaca1 Andre Agassi\n",
      "10e0fb98-fe16-4fd3-a9a1-f9a74c490439 Achilles\n",
      "11338986-a889-4f43-a860-00b728bba922 Aristotle\n",
      "114d3661-de60-46d9-b868-4033de56db13 Anarchism\n",
      "11b0527b-a8a0-4e50-b154-aee2c35e8ca6 Afroasiatic languages\n",
      "11b647b5-5bba-4c3c-8f24-ca4e0484c5ff Agriculture\n",
      "11e9cf88-e231-487d-b3ec-59d0483e7d08 Austroasiatic languages\n",
      "121d97d5-dd56-48b3-9ce0-06d75c712aa3 Analysis of variance\n",
      "1251dbc9-955a-4c4e-8500-6e6f2d1fe7e7 Alchemy\n",
      "1267ca7e-30e1-4848-ab86-0079667eadb7 Academy Awards\n"
     ]
    }
   ],
   "execution_count": 2
  },
  {
   "metadata": {
    "ExecuteTime": {
     "end_time": "2025-10-12T12:26:02.722670Z",
     "start_time": "2025-10-12T12:26:01.758914Z"
    }
   },
   "cell_type": "code",
   "source": [
    "query_text = \"Who was Charlemagne?\"\n",
    "results = sparse_query_search(client, query_text, print_results=True)"
   ],
   "id": "d4eac9fbe5d9dd4b",
   "outputs": [
    {
     "name": "stdout",
     "output_type": "stream",
     "text": [
      "\n",
      "--- : Querying Small Chunks for: 'Who was Charlemagne?' ---\n",
      "The Economist featured a weekly column entitled \"Charlemagne\", focusing generally on European affairs and, more usually and specifically, on the European Union and its politics.  Actor and singer Christopher Lee's symphonic metal concept album Charlemagne: By the Sword and the Cross and its heavy metal follow-up Charlemagne: The Omens of Death feature the events of Charlemagne's life.\n",
      "of his father, Pepin. Desiderius sent his own ambassadors denying the pope's charges. The ambassadors met at Thionville, and Charlemagne upheld the pope's side. Charlemagne demanded what the pope had requested, but Desiderius swore never to comply. Charlemagne and his uncle Bernard crossed the Alps in 773 and chased the Lombards back to Pavia, which they then besieged. Charlemagne temporarily\n",
      "In April 2014, on the occasion of the 1200th anniversary of Charlemagne's death, public art Mein Karl by Ottmar Hörl at Katschhof place was installed between city hall and the Aachen cathedral, displaying 500 Charlemagne statues.  Charlemagne features as a playable character in the 2014 Charlemagne expansion for the grand strategy video game Crusader Kings 2.\n",
      "The Making of Charlemagne's Europe (freely available database of prosopographical and socio-economic data from legal documents dating to Charlemagne's reign, produced by King's College London)      The Sword of Charlemagne (myArmoury.com article)\n",
      "but the counts of Genoa and Tuscany (Boniface) controlled them with large fleets until the end of Charlemagne's reign. Charlemagne even had contact with the caliphal court in Baghdad. In 797 (or possibly 801), the caliph of Baghdad, Harun al-Rashid, presented Charlemagne with an Asian elephant named Abul-Abbas and a clock.\n"
     ]
    }
   ],
   "execution_count": 3
  },
  {
   "metadata": {
    "ExecuteTime": {
     "end_time": "2025-10-12T12:26:05.896570Z",
     "start_time": "2025-10-12T12:26:02.773173Z"
    }
   },
   "cell_type": "code",
   "source": [
    "query_text = \"Who was Charlemagne?\"\n",
    "results = dense_query_search(client, query_text, print_results=True)"
   ],
   "id": "7dc40a8e71836267",
   "outputs": [
    {
     "name": "stdout",
     "output_type": "stream",
     "text": [
      "\n",
      "--- : Querying Small Chunks for: 'Who was Charlemagne?' ---\n",
      "384\n",
      "him. As an administrator, Charlemagne stands out for his many reforms: monetary, governmental, military, cultural and ecclesiastical. He is the main protagonist of the \"Carolingian Renaissance\".\n",
      "Visigoths and Carolingians: the legend of Charlemagne\n",
      "Visigoths and Carolingians: the legend of Charlemagne\n",
      "In July 2022, Charlemagne featured as a character in an episode of The Family Histories Podcast, and it references his role as an ancestor of all modern Europeans. He is portrayed here in later life, and is speaking Latin, which is translated by a device. He is returned to 9th Century Aquitaine by the end of the episode after a DNA sample has been extracted.  Notes  References  Citations\n",
      "Jews in Charlemagne's realm\n"
     ]
    }
   ],
   "execution_count": 4
  },
  {
   "metadata": {
    "ExecuteTime": {
     "end_time": "2025-10-12T17:26:21.323884Z",
     "start_time": "2025-10-12T17:26:15.814545Z"
    }
   },
   "cell_type": "code",
   "source": "hierarchical_search(client, query_text, use_deep_embedding=True, print_results=True)",
   "id": "c8d801eb3a5835fe",
   "outputs": [
    {
     "name": "stdout",
     "output_type": "stream",
     "text": [
      "\n",
      "--- : Querying Small Chunks for: 'Who was Charlemagne?' ---\n",
      "384\n",
      "Administration  Organisation The Carolingian king exercised the bannum, the right to rule and command. Under the Franks, it was a royal prerogative but could be delegated. He had supreme jurisdiction in judicial matters, made legislation, led the army, and protected both the Church and the poor. His administration was an attempt to organise the kingdom, church and nobility around him. As an administrator, Charlemagne stands out for his many reforms: monetary, governmental, military, cultural and ecclesiastical. He is the main protagonist of the \"Carolingian Renaissance\".  Military Charlemagne's success rested primarily on novel siege technologies and excellent logistics rather than the long-claimed \"cavalry revolution\" led by Charles Martel in 730s. However, the stirrup, which made the \"shock cavalry\" lance charge possible, was not introduced to the Frankish kingdom until the late eighth century.  Horses were used extensively by the Frankish military because they provided a quick, long-distance method of transporting troops, which was critical to building and maintaining the large empire.  Economic and monetary reforms  Charlemagne had an important role in determining Europe's immediate economic future. Pursuing his father's reforms, Charlemagne abolished the monetary system based on the gold . Instead, he and the Anglo-Saxon King Offa of Mercia took up Pippin's system for pragmatic reasons, notably a shortage of the metal.\n",
      "Iberian and Roman Andorra  The inhabitants of the valleys were traditionally associated with the Iberians and historically located in Andorra as the Iberian tribe Andosins or Andosini () during the 7th and 2nd centuries BC. Influenced by the Aquitanian, Basque and Iberian languages, the locals developed some current toponyms. Early writings and documents relating to this group of people goes back to the second century BC by the Greek writer Polybius in his Histories during the Punic Wars.  Some of the most significant remains of this era are the Castle of the Roc d'Enclar (part of the early Marca Hispanica), l'Anxiu in Les Escaldes and Roc de L'Oral in Encamp.  The presence of Roman influence is recorded from the 2nd century BCE to the 5th century CE. The places with the most Roman presence are in Camp Vermell (Red Field) in Sant Julià de Lòria, and in some places in Encamp, as well as in the Roc d'Enclar. People continued trading, mainly with wine and cereals, with the Roman cities of Urgellet (the present-day La Seu d'Urgell) and all across Segre through the via romana Strata Ceretana (also known as Strata Confluetana).  Visigoths and Carolingians: the legend of Charlemagne\n",
      "Visigoths and Carolingians: the legend of Charlemagne  After the fall of the Roman Empire, Andorra came under the influence of the Visigoths, the Kingdom of Toledo, and the Diocese of Urgell. The Visigoths remained in the valleys for 200 years, during which time Christianity spread. When the Muslim Empire of Al-Andalus replaced the ruling Visigoths in most of the Iberian Peninsula, Andorra was sheltered from these Arab invaders by the Franks.  Tradition holds that Charles the Great (Charlemagne) granted a charter to the Andorran people for a contingent of 5,000 soldiers under the command of Marc Almugaver, in return for fighting against the Moors near Porté-Puymorens (Cerdanya).  Andorra remained part of the Frankish Marca Hispanica, the buffer zone between the Frankish Empire and the Muslim territories, Andorra being part of the territory ruled by the Count of Urgell and eventually the bishop of the Diocese of Urgell. Tradition also holds that it was guaranteed by the son of Charlemagne, Louis the Pious, writing the Carta de Poblament or a local municipal charter .  In 988, Count Borrell II of Urgell gave the Andorran valleys to the Diocese of Urgell in exchange for land in Cerdanya. Since then, the bishop of Urgell, based in Seu d'Urgell, has been co-prince of Andorra.\n",
      "Charlemagne is a playable character in the Mobile/PC Game Rise of Kingdoms.  In the 2018 video game Fate/Extella Link, Charlemagne appears as a Heroic Spirit separated into two Saint Graphs: the adventurous hero Charlemagne, who embodies the fantasy aspect as leader of the Twelve Paladins, and the villain Karl de Große, who embodies the historical aspect as Holy Roman Emperor.  In July 2022, Charlemagne featured as a character in an episode of The Family Histories Podcast, and it references his role as an ancestor of all modern Europeans. He is portrayed here in later life, and is speaking Latin, which is translated by a device. He is returned to 9th Century Aquitaine by the end of the episode after a DNA sample has been extracted.  Notes  References  Citations  Bibliography   Charlemagne, from Encyclopædia Britannica, full-article, latest edition.                                                                           Comprises the Annales regni Francorum and The History of the Sons of Louis the Pious  External links\n",
      "Jews in Charlemagne's realm Early in Charlemagne's rule he tacitly allowed Jews to monopolise money lending. He invited Italian Jews to immigrate, as royal clients independent of the feudal landowners, and form trading communities in the agricultural regions of Provence and the Rhineland. Their trading activities augmented the otherwise almost exclusively agricultural economies of these regions. His personal physician was Jewish, and he employed a Jew named Isaac as his personal representative to the Muslim caliphate of Baghdad.  Education reforms  Part of Charlemagne's success as a warrior, an administrator and ruler can be traced to his admiration for learning and education. His reign is often referred to as the Carolingian Renaissance because of the flowering of scholarship, literature, art and architecture that characterise it. Charlemagne came into contact with the culture and learning of other countries (especially Moorish Spain, Anglo-Saxon England, and Lombard Italy) due to his vast conquests. He greatly increased the provision of monastic schools and scriptoria (centres for book-copying) in Francia.  Charlemagne was a lover of books, sometimes having them read to him during meals. He was thought to enjoy the works of Augustine of Hippo. His court played a key role in producing books that taught elementary Latin and different aspects of the church. It also played a part in creating a royal library that contained in-depth works on language and Christian faith.\n"
     ]
    },
    {
     "data": {
      "text/plain": [
       "[Record(id='90c224c1-60e5-42a8-9cd0-69faafa396cd', payload={'text': 'Administration\\n\\nOrganisation\\nThe Carolingian king exercised the bannum, the right to rule and command. Under the Franks, it was a royal prerogative but could be delegated. He had supreme jurisdiction in judicial matters, made legislation, led the army, and protected both the Church and the poor. His administration was an attempt to organise the kingdom, church and nobility around him. As an administrator, Charlemagne stands out for his many reforms: monetary, governmental, military, cultural and ecclesiastical. He is the main protagonist of the \"Carolingian Renaissance\".\\n\\nMilitary\\nCharlemagne\\'s success rested primarily on novel siege technologies and excellent logistics rather than the long-claimed \"cavalry revolution\" led by Charles Martel in 730s. However, the stirrup, which made the \"shock cavalry\" lance charge possible, was not introduced to the Frankish kingdom until the late eighth century.\\n\\nHorses were used extensively by the Frankish military because they provided a quick, long-distance method of transporting troops, which was critical to building and maintaining the large empire.\\n\\nEconomic and monetary reforms\\n\\nCharlemagne had an important role in determining Europe\\'s immediate economic future. Pursuing his father\\'s reforms, Charlemagne abolished the monetary system based on the gold . Instead, he and the Anglo-Saxon King Offa of Mercia took up Pippin\\'s system for pragmatic reasons, notably a shortage of the metal.', 'title': 'Charlemagne'}, vector=None, shard_key=None, order_value=None),\n",
       " Record(id='6025a484-bd68-43a0-94f1-fcd5b48f142b', payload={'text': \"Iberian and Roman Andorra\\n\\nThe inhabitants of the valleys were traditionally associated with the Iberians and historically located in Andorra as the Iberian tribe Andosins or Andosini () during the 7th and 2nd centuries BC. Influenced by the Aquitanian, Basque and Iberian languages, the locals developed some current toponyms. Early writings and documents relating to this group of people goes back to the second century BC by the Greek writer Polybius in his Histories during the Punic Wars.\\n\\nSome of the most significant remains of this era are the Castle of the Roc d'Enclar (part of the early Marca Hispanica), l'Anxiu in Les Escaldes and Roc de L'Oral in Encamp.\\n\\nThe presence of Roman influence is recorded from the 2nd century BCE to the 5th century CE. The places with the most Roman presence are in Camp Vermell (Red Field) in Sant Julià de Lòria, and in some places in Encamp, as well as in the Roc d'Enclar. People continued trading, mainly with wine and cereals, with the Roman cities of Urgellet (the present-day La Seu d'Urgell) and all across Segre through the via romana Strata Ceretana (also known as Strata Confluetana).\\n\\nVisigoths and Carolingians: the legend of Charlemagne\", 'title': 'Andorra'}, vector=None, shard_key=None, order_value=None),\n",
       " Record(id='ba0c6be7-1992-4bd6-a1f5-8b3718665108', payload={'text': \"Visigoths and Carolingians: the legend of Charlemagne\\n\\nAfter the fall of the Roman Empire, Andorra came under the influence of the Visigoths, the Kingdom of Toledo, and the Diocese of Urgell. The Visigoths remained in the valleys for 200 years, during which time Christianity spread. When the Muslim Empire of Al-Andalus replaced the ruling Visigoths in most of the Iberian Peninsula, Andorra was sheltered from these Arab invaders by the Franks.\\n\\nTradition holds that Charles the Great (Charlemagne) granted a charter to the Andorran people for a contingent of 5,000 soldiers under the command of Marc Almugaver, in return for fighting against the Moors near Porté-Puymorens (Cerdanya).\\n\\nAndorra remained part of the Frankish Marca Hispanica, the buffer zone between the Frankish Empire and the Muslim territories, Andorra being part of the territory ruled by the Count of Urgell and eventually the bishop of the Diocese of Urgell. Tradition also holds that it was guaranteed by the son of Charlemagne, Louis the Pious, writing the Carta de Poblament or a local municipal charter .\\n\\nIn 988, Count Borrell II of Urgell gave the Andorran valleys to the Diocese of Urgell in exchange for land in Cerdanya. Since then, the bishop of Urgell, based in Seu d'Urgell, has been co-prince of Andorra.\", 'title': 'Andorra'}, vector=None, shard_key=None, order_value=None),\n",
       " Record(id='0b23095b-b2e3-455f-8416-4aa722806fdc', payload={'text': 'Charlemagne is a playable character in the Mobile/PC Game Rise of Kingdoms.\\n\\nIn the 2018 video game Fate/Extella Link, Charlemagne appears as a Heroic Spirit separated into two Saint Graphs: the adventurous hero Charlemagne, who embodies the fantasy aspect as leader of the Twelve Paladins, and the villain Karl de Große, who embodies the historical aspect as Holy Roman Emperor.\\n\\nIn July 2022, Charlemagne featured as a character in an episode of The Family Histories Podcast, and it references his role as an ancestor of all modern Europeans. He is portrayed here in later life, and is speaking Latin, which is translated by a device. He is returned to 9th Century Aquitaine by the end of the episode after a DNA sample has been extracted.\\n\\nNotes\\n\\nReferences\\n\\nCitations\\n\\nBibliography\\n\\n Charlemagne, from Encyclopædia Britannica, full-article, latest edition.\\n \\n \\n \\n \\n \\n \\n \\n \\n \\n \\n \\n \\n \\n \\n \\n \\n \\n \\n \\n \\n \\n \\n \\n \\n \\n \\n \\n \\n \\n \\n \\n \\n \\n \\n \\n \\n  Comprises the Annales regni Francorum and The History of the Sons of Louis the Pious\\n\\nExternal links', 'title': 'Charlemagne'}, vector=None, shard_key=None, order_value=None),\n",
       " Record(id='5526f281-131e-4fa1-afdc-c5fcefa5df4f', payload={'text': \"Jews in Charlemagne's realm\\nEarly in Charlemagne's rule he tacitly allowed Jews to monopolise money lending. He invited Italian Jews to immigrate, as royal clients independent of the feudal landowners, and form trading communities in the agricultural regions of Provence and the Rhineland. Their trading activities augmented the otherwise almost exclusively agricultural economies of these regions. His personal physician was Jewish, and he employed a Jew named Isaac as his personal representative to the Muslim caliphate of Baghdad.\\n\\nEducation reforms\\n\\nPart of Charlemagne's success as a warrior, an administrator and ruler can be traced to his admiration for learning and education. His reign is often referred to as the Carolingian Renaissance because of the flowering of scholarship, literature, art and architecture that characterise it. Charlemagne came into contact with the culture and learning of other countries (especially Moorish Spain, Anglo-Saxon England, and Lombard Italy) due to his vast conquests. He greatly increased the provision of monastic schools and scriptoria (centres for book-copying) in Francia.\\n\\nCharlemagne was a lover of books, sometimes having them read to him during meals. He was thought to enjoy the works of Augustine of Hippo. His court played a key role in producing books that taught elementary Latin and different aspects of the church. It also played a part in creating a royal library that contained in-depth works on language and Christian faith.\", 'title': 'Charlemagne'}, vector=None, shard_key=None, order_value=None)]"
      ]
     },
     "execution_count": 14,
     "metadata": {},
     "output_type": "execute_result"
    }
   ],
   "execution_count": 14
  },
  {
   "metadata": {
    "ExecuteTime": {
     "end_time": "2025-10-12T12:26:05.954370Z",
     "start_time": "2025-10-12T12:26:05.948116Z"
    }
   },
   "cell_type": "code",
   "source": [
    "result = client.retrieve(\n",
    "    collection_name=\"wiki_large_chunks\",\n",
    "    ids=[\"035951e1-74e1-450e-a6a8-5bf9440fbad1\"],\n",
    "    with_payload=True\n",
    ")\n",
    "print(result)"
   ],
   "id": "97cb28801c78dc95",
   "outputs": [
    {
     "name": "stdout",
     "output_type": "stream",
     "text": [
      "[]\n"
     ]
    }
   ],
   "execution_count": 5
  }
 ],
 "metadata": {
  "kernelspec": {
   "display_name": "Python 3",
   "language": "python",
   "name": "python3"
  },
  "language_info": {
   "codemirror_mode": {
    "name": "ipython",
    "version": 2
   },
   "file_extension": ".py",
   "mimetype": "text/x-python",
   "name": "python",
   "nbconvert_exporter": "python",
   "pygments_lexer": "ipython2",
   "version": "2.7.6"
  }
 },
 "nbformat": 4,
 "nbformat_minor": 5
}
