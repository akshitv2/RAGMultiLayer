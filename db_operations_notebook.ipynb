{
 "cells": [
  {
   "cell_type": "code",
   "id": "initial_id",
   "metadata": {
    "collapsed": true,
    "ExecuteTime": {
     "end_time": "2025-10-12T10:58:28.765481Z",
     "start_time": "2025-10-12T10:58:17.304264Z"
    }
   },
   "source": [
    "from fastembed import SparseTextEmbedding\n",
    "import os\n",
    "\n",
    "from RAG.RAG_query import get_topics_list\n",
    "from config.loadConfig import load_project_config\n",
    "from DB.qDrant import check_qdrant_status, QdrantConfig\n",
    "from qdrant_client import QdrantClient\n",
    "from sentence_transformers import SentenceTransformer\n",
    "from RAG.RAG_Retrieve import custom_embed_function\n",
    "# Encode the query text using the same model\n",
    "\n",
    "# Connect to Qdrant\n",
    "config = load_project_config(os.path.join(os.getcwd(), \"config/config.yaml\"))\n",
    "qdrantConfig = QdrantConfig(\n",
    "    host=config[\"db\"][\"qdrant\"][\"connection\"][\"host\"],\n",
    "    port=config[\"db\"][\"qdrant\"][\"connection\"][\"port\"],\n",
    "    timeout=config[\"db\"][\"qdrant\"][\"connection\"][\"timeout\"]\n",
    ")\n",
    "status, client = check_qdrant_status(qdrantConfig)\n",
    "embedding_model = SentenceTransformer(config['embedding_model'])\n",
    "sparse_model = SparseTextEmbedding(model_name=\"Qdrant/bm25\")\n",
    "small_collection_name = config['db']['collections']['collection_small']['name']\n",
    "large_collection_name = config['db']['collections']['collection_large']['name']"
   ],
   "outputs": [
    {
     "name": "stdout",
     "output_type": "stream",
     "text": [
      "Connected. Collections: ['wiki_large_chunks', 'wiki_small_chunks']\n"
     ]
    }
   ],
   "execution_count": 1
  },
  {
   "metadata": {
    "ExecuteTime": {
     "end_time": "2025-10-12T10:14:37.893999Z",
     "start_time": "2025-10-12T10:14:37.882873Z"
    }
   },
   "cell_type": "code",
   "source": "get_topics_list(client)",
   "id": "50276c144f721646",
   "outputs": [
    {
     "name": "stdout",
     "output_type": "stream",
     "text": [
      "0000d22f-a0a6-446c-b753-2cb8b252bbcb Andre Agassi\n",
      "00164fc4-39be-4ef0-8d91-39690d7d7c89 Alabama\n",
      "0024beeb-8091-4ef4-9e54-8be4518b170c Animal Farm\n",
      "0043c428-fb58-4b7b-9a0f-eed75dccf897 Alabama\n",
      "007f0cdd-9081-4987-80bc-b46b47c6e033 Abraham Lincoln\n",
      "007faa8c-f372-4ef7-8d4f-43f6b6cdc744 Afroasiatic languages\n",
      "00d8a63b-013e-4dc5-bbfc-138a2599835c Aristotle\n",
      "00ebad82-b699-407c-afb9-6b9ae7fa5919 Alabama\n",
      "00fa2926-5539-4954-b04c-eca0e6e4ea47 Animation\n",
      "01145695-2e8d-4f5d-bd0a-c6e7965c8490 Andre Agassi\n",
      "0000d22f-a0a6-446c-b753-2cb8b252bbcb Andre Agassi\n",
      "00164fc4-39be-4ef0-8d91-39690d7d7c89 Alabama\n",
      "0024beeb-8091-4ef4-9e54-8be4518b170c Animal Farm\n",
      "0043c428-fb58-4b7b-9a0f-eed75dccf897 Alabama\n",
      "007f0cdd-9081-4987-80bc-b46b47c6e033 Abraham Lincoln\n",
      "007faa8c-f372-4ef7-8d4f-43f6b6cdc744 Afroasiatic languages\n",
      "00d8a63b-013e-4dc5-bbfc-138a2599835c Aristotle\n",
      "00ebad82-b699-407c-afb9-6b9ae7fa5919 Alabama\n",
      "00fa2926-5539-4954-b04c-eca0e6e4ea47 Animation\n",
      "01145695-2e8d-4f5d-bd0a-c6e7965c8490 Andre Agassi\n"
     ]
    }
   ],
   "execution_count": 17
  },
  {
   "metadata": {
    "ExecuteTime": {
     "end_time": "2025-10-12T11:00:52.016Z",
     "start_time": "2025-10-12T11:00:51.159022Z"
    }
   },
   "cell_type": "code",
   "source": [
    "from RAG.RAG_query import sparse_query_search\n",
    "\n",
    "query_text = \"Where is alabama?\"\n",
    "results = sparse_query_search(client, query_text)"
   ],
   "id": "d4eac9fbe5d9dd4b",
   "outputs": [
    {
     "name": "stdout",
     "output_type": "stream",
     "text": [
      "\n",
      "--- : Querying Small Chunks for: 'Where is alabama?' ---\n",
      "External links        Alabama State Guide, from the Library of Congress  Your Not So Ordinary Alabama Tourist Guide   All About Alabama , at the Alabama Department of Archives and History  Code of Alabama 1975  USGS real-time, geographic, and other scientific resources of Alabama   Alabama QuickFacts from the U.S. Census Bureau  Alabama State Fact Sheet\n",
      "The executive branch is responsible for the execution and oversight of laws. It is headed by the governor of Alabama. Other members of the executive branch include the cabinet, the lieutenant governor of Alabama, the Attorney General of Alabama, the Alabama Secretary of State, the Alabama State Treasurer, and the State Auditor of Alabama. The current governor is Republican Kay Ivey.\n",
      "Water ports of Alabama, listed from north to south:  See also    Index of Alabama-related articles  Outline of Alabama — organized list of topics about Alabama  USS Alabama, 7 ships  Notes  Subnotes  Other notes  References  Further reading\n",
      "UAB Hospital, USA Health University Hospital, Huntsville Hospital, and Children's Hospital of Alabama are the only LevelI trauma centers in Alabama. UAB is the largest state government employer in Alabama, with a workforce of about 18,000. A 2017 study found that Alabama had the least competitive health insurance market in the country, with Blue Cross and Blue Shield of Alabama having a market\n",
      "Atkins, Leah Rawls, Wayne Flynt, William Warren Rogers, and David Ward. Alabama: The History of a Deep South State (1994).  Flynt, Wayne. Alabama in the Twentieth Century (2004).  Owen Thomas M. History of Alabama and Dictionary of Alabama Biography (4 vols, 1921).  Jackson, Harvey H. Inside Alabama: A Personal History of My State (2004).\n"
     ]
    }
   ],
   "execution_count": 8
  },
  {
   "metadata": {
    "ExecuteTime": {
     "end_time": "2025-10-12T10:02:26.621565Z",
     "start_time": "2025-10-12T10:02:26.590636Z"
    }
   },
   "cell_type": "code",
   "source": [
    "result = client.retrieve(\n",
    "    collection_name=\"wiki_large_chunks\",\n",
    "    ids=[\"035951e1-74e1-450e-a6a8-5bf9440fbad1\"],\n",
    "    with_payload=True\n",
    ")\n",
    "print(result)"
   ],
   "id": "97cb28801c78dc95",
   "outputs": [
    {
     "name": "stdout",
     "output_type": "stream",
     "text": [
      "[Record(id='035951e1-74e1-450e-a6a8-5bf9440fbad1', payload={'text': 'Alabama () is a state in the Southeastern region of the United States, bordered by Tennessee to the north; Georgia to the east; Florida and the Gulf of Mexico to the south; and Mississippi to the west. Alabama is the 30th largest by area and the 24th-most populous of the U.S. states.\\n\\nAlabama is nicknamed the Yellowhammer State, after the state bird. Alabama is also known as the \"Heart of Dixie\" and the \"Cotton State\". The state tree is the longleaf pine, and the state flower is the camellia. Alabama\\'s capital is Montgomery, and its largest city by population and area is Huntsville. Its oldest city is Mobile, founded by French colonists (Alabama Creoles) in 1702 as the capital of French Louisiana. Greater Birmingham is Alabama\\'s largest metropolitan area and its economic center.', 'title': 'Alabama'}, vector=None, shard_key=None, order_value=None)]\n"
     ]
    }
   ],
   "execution_count": 10
  }
 ],
 "metadata": {
  "kernelspec": {
   "display_name": "Python 3",
   "language": "python",
   "name": "python3"
  },
  "language_info": {
   "codemirror_mode": {
    "name": "ipython",
    "version": 2
   },
   "file_extension": ".py",
   "mimetype": "text/x-python",
   "name": "python",
   "nbconvert_exporter": "python",
   "pygments_lexer": "ipython2",
   "version": "2.7.6"
  }
 },
 "nbformat": 4,
 "nbformat_minor": 5
}
